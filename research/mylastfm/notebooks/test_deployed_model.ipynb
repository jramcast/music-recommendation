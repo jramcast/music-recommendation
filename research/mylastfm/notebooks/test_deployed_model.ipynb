{
 "cells": [
  {
   "cell_type": "code",
   "execution_count": 1,
   "id": "697a9a89-08fa-4c26-81ce-d2eaee90fad5",
   "metadata": {},
   "outputs": [],
   "source": [
    "import numpy as np\n",
    "import requests"
   ]
  },
  {
   "cell_type": "code",
   "execution_count": 2,
   "id": "dde20bf0-9975-4722-9ab2-56078e6d8141",
   "metadata": {},
   "outputs": [],
   "source": [
    "INFERENCE_ENDPOINT = \"https://bayesdanceability1000tags-phd.apps.rhods-internal.61tk.p1.openshiftapps.com/v2/models/bayesdanceability1000tags/infer\""
   ]
  },
  {
   "cell_type": "code",
   "execution_count": 4,
   "id": "ed512d01-7941-4425-abe0-dcac1025f48e",
   "metadata": {},
   "outputs": [],
   "source": [
    "sample = list(np.random.rand(1000))"
   ]
  },
  {
   "cell_type": "code",
   "execution_count": 5,
   "id": "74768e1d-1905-4607-9812-68132dd8da3c",
   "metadata": {},
   "outputs": [
    {
     "data": {
      "text/plain": [
       "{'model_name': 'bayesdanceability1000tags__isvc-9948b006b8',\n",
       " 'model_version': '1',\n",
       " 'outputs': [{'name': 'variable',\n",
       "   'datatype': 'FP32',\n",
       "   'shape': [1, 1],\n",
       "   'data': [0.6276341]}]}"
      ]
     },
     "execution_count": 5,
     "metadata": {},
     "output_type": "execute_result"
    }
   ],
   "source": [
    "payload = {\n",
    "    \"inputs\": [\n",
    "        {\n",
    "            # The ONNX model requires this name\n",
    "            \"name\": \"X\",\n",
    "            \"shape\": [1,1],\n",
    "            \"datatype\": \"FP32\",\n",
    "            \"data\": sample\n",
    "        }\n",
    "    ]\n",
    "}\n",
    "\n",
    "response = requests.post(INFERENCE_ENDPOINT, json=payload)\n",
    "result = response.json()\n",
    "result"
   ]
  },
  {
   "cell_type": "code",
   "execution_count": null,
   "id": "e7840d7e-1706-4993-9f73-a57eaebdbf39",
   "metadata": {},
   "outputs": [],
   "source": []
  }
 ],
 "metadata": {
  "kernelspec": {
   "display_name": "Python 3.9",
   "language": "python",
   "name": "python3"
  },
  "language_info": {
   "codemirror_mode": {
    "name": "ipython",
    "version": 3
   },
   "file_extension": ".py",
   "mimetype": "text/x-python",
   "name": "python",
   "nbconvert_exporter": "python",
   "pygments_lexer": "ipython3",
   "version": "3.9.18"
  }
 },
 "nbformat": 4,
 "nbformat_minor": 5
}
