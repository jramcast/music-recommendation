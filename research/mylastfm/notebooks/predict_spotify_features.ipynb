{
 "cells": [
  {
   "cell_type": "code",
   "execution_count": 1,
   "id": "311c7178-2a63-4095-be08-021dc9761f46",
   "metadata": {},
   "outputs": [
    {
     "name": "stdout",
     "output_type": "stream",
     "text": [
      "\n",
      "\u001b[1m[\u001b[0m\u001b[34;49mnotice\u001b[0m\u001b[1;39;49m]\u001b[0m\u001b[39;49m A new release of pip available: \u001b[0m\u001b[31;49m22.2.2\u001b[0m\u001b[39;49m -> \u001b[0m\u001b[32;49m23.3.2\u001b[0m\n",
      "\u001b[1m[\u001b[0m\u001b[34;49mnotice\u001b[0m\u001b[1;39;49m]\u001b[0m\u001b[39;49m To update, run: \u001b[0m\u001b[32;49mpip install --upgrade pip\u001b[0m\n",
      "Note: you may need to restart the kernel to use updated packages.\n"
     ]
    }
   ],
   "source": [
    "%pip install -q xgboost==1.5.0 pymongo==3.12.0 datasets==2.10.0"
   ]
  },
  {
   "cell_type": "code",
   "execution_count": 1,
   "id": "28f52e09-60b5-4cc5-80d2-7074cb1b9e04",
   "metadata": {},
   "outputs": [],
   "source": [
    "# Add parent directory to SYS to be able to import modules\n",
    "import sys\n",
    "sys.path.append(\"../\")"
   ]
  },
  {
   "cell_type": "code",
   "execution_count": 2,
   "id": "1c4bcdc2-2d47-4898-843a-90a0057442c0",
   "metadata": {},
   "outputs": [
    {
     "name": "stderr",
     "output_type": "stream",
     "text": [
      "/opt/app-root/lib64/python3.9/site-packages/xgboost/compat.py:36: FutureWarning: pandas.Int64Index is deprecated and will be removed from pandas in a future version. Use pandas.Index with the appropriate dtype instead.\n",
      "  from pandas import MultiIndex, Int64Index\n"
     ]
    }
   ],
   "source": [
    "from pprint import pprint\n",
    "from pathlib import Path\n",
    "from datetime import datetime\n",
    "import dataloading\n",
    "import preprocessing\n",
    "from recommend import (\n",
    "    predict_spotify_features, \n",
    "    get_lastfm_tag_probs_for_current_hour,\n",
    "    find_closest_tracks_to_spotify_features\n",
    ")"
   ]
  },
  {
   "cell_type": "code",
   "execution_count": 9,
   "id": "b0092459-5fc6-46d4-8989-7838146e1bfd",
   "metadata": {},
   "outputs": [],
   "source": [
    "DATA_DIR = Path(\"../../../data\")\n",
    "MODEL_PATH = Path(\"../_models/danceability-bayes-1000_probs-by_track.json\")"
   ]
  },
  {
   "cell_type": "code",
   "execution_count": 6,
   "id": "1f0e61a4-6928-4b00-8673-5259f98f17e3",
   "metadata": {},
   "outputs": [],
   "source": [
    "lastfm_tag_probs = dataloading.read_tag_probs(\n",
    "    DATA_DIR, num_tags=1000, dimension=\"track\", index_col=\"track\"\n",
    ")\n",
    "\n",
    "preprocessing.clean_column_names(lastfm_tag_probs)\n",
    "\n",
    "lastfm_tag_probs = lastfm_tag_probs.iloc[:1,:-12]"
   ]
  },
  {
   "cell_type": "code",
   "execution_count": 7,
   "id": "d017e9b1-9c46-46a0-bacc-f962fa59a85c",
   "metadata": {},
   "outputs": [
    {
     "name": "stdout",
     "output_type": "stream",
     "text": [
      "  - Predicted Spotify features\n",
      "    * Danceability: 0.6392641723792704\n"
     ]
    },
    {
     "name": "stderr",
     "output_type": "stream",
     "text": [
      "/opt/app-root/lib64/python3.9/site-packages/sklearn/base.py:318: UserWarning: Trying to unpickle estimator BayesianRidge from version 1.1.1 when using version 1.2.2. This might lead to breaking code or invalid results. Use at your own risk. For more info please refer to:\n",
      "https://scikit-learn.org/stable/model_persistence.html#security-maintainability-limitations\n",
      "  warnings.warn(\n"
     ]
    }
   ],
   "source": [
    "prediction = predict_spotify_features(MODEL_PATH, lastfm_tag_probs)\n",
    "print(\"  - Predicted Spotify features\")\n",
    "danceability = prediction[0].item()\n",
    "print(\"    * Danceability:\", danceability)"
   ]
  },
  {
   "cell_type": "code",
   "execution_count": 8,
   "id": "ecec8e2a-e79d-435d-a097-5200a7b79ea5",
   "metadata": {},
   "outputs": [
    {
     "name": "stdout",
     "output_type": "stream",
     "text": [
      "[{'artist': 'Extra Credit',\n",
      "  'danceability': 0.639,\n",
      "  'distance': 0.0002641723792703443,\n",
      "  'track': \"It's Over\"},\n",
      " {'artist': 'Lemon Jelly',\n",
      "  'danceability': 0.639,\n",
      "  'distance': 0.0002641723792703443,\n",
      "  'track': 'Nervous Tension'},\n",
      " {'artist': 'Mirwais',\n",
      "  'danceability': 0.639,\n",
      "  'distance': 0.0002641723792703443,\n",
      "  'track': 'Miss You'},\n",
      " {'artist': 'Desert Dwellers',\n",
      "  'danceability': 0.639,\n",
      "  'distance': 0.0002641723792703443,\n",
      "  'track': 'Point of Awakening - (Androcell Remix)'},\n",
      " {'artist': 'Dream Warriors',\n",
      "  'danceability': 0.639,\n",
      "  'distance': 0.0002641723792703443,\n",
      "  'track': 'Wash Your Face In My Sink'},\n",
      " {'artist': 'While',\n",
      "  'danceability': 0.639,\n",
      "  'distance': 0.0002641723792703443,\n",
      "  'track': 'Somewhere in my Heart'},\n",
      " {'artist': 'Adele',\n",
      "  'danceability': 0.639,\n",
      "  'distance': 0.0002641723792703443,\n",
      "  'track': 'Set Fire to the Rain (Moto Blanco edit)'},\n",
      " {'artist': 'Pepe Deluxé',\n",
      "  'danceability': 0.639,\n",
      "  'distance': 0.0002641723792703443,\n",
      "  'track': 'Before You Leave'},\n",
      " {'artist': 'Faithless',\n",
      "  'danceability': 0.639,\n",
      "  'distance': 0.0002641723792703443,\n",
      "  'track': 'Spiders, Crocodiles & Kryptonite'},\n",
      " {'artist': 'Lifelike',\n",
      "  'danceability': 0.639,\n",
      "  'distance': 0.0002641723792703443,\n",
      "  'track': 'Discopolis - Original Mix'},\n",
      " {'danceability': 0.64,\n",
      "  'distance': 0.0007358276207296566,\n",
      "  'track_artist': 'Darius',\n",
      "  'track_name': 'Lost in the Moment'},\n",
      " {'danceability': 0.64,\n",
      "  'distance': 0.0007358276207296566,\n",
      "  'track_artist': 'Gorillaz',\n",
      "  'track_name': 'Strobelite (feat. Peven Everett)'},\n",
      " {'danceability': 0.64,\n",
      "  'distance': 0.0007358276207296566,\n",
      "  'track_artist': 'Bonobo',\n",
      "  'track_name': 'Cirrus'},\n",
      " {'danceability': 0.64,\n",
      "  'distance': 0.0007358276207296566,\n",
      "  'track_artist': 'York',\n",
      "  'track_name': 'The Reachers of Civilisation'},\n",
      " {'danceability': 0.64,\n",
      "  'distance': 0.0007358276207296566,\n",
      "  'track_artist': 'Yotto',\n",
      "  'track_name': 'The Owls'},\n",
      " {'danceability': 0.64,\n",
      "  'distance': 0.0007358276207296566,\n",
      "  'track_artist': 'karriem',\n",
      "  'track_name': 'I Love You - Long Version'},\n",
      " {'danceability': 0.64,\n",
      "  'distance': 0.0007358276207296566,\n",
      "  'track_artist': 'Pryda',\n",
      "  'track_name': 'Illumination'},\n",
      " {'danceability': 0.64,\n",
      "  'distance': 0.0007358276207296566,\n",
      "  'track_artist': 'Dave Clarke',\n",
      "  'track_name': 'What Was Her Name (feat. Chicks On Speed)'},\n",
      " {'danceability': 0.64,\n",
      "  'distance': 0.0007358276207296566,\n",
      "  'track_artist': 'Siriusmo',\n",
      "  'track_name': 'High Together'},\n",
      " {'danceability': 0.64,\n",
      "  'distance': 0.0007358276207296566,\n",
      "  'track_artist': 'Lemon Jelly',\n",
      "  'track_name': 'The Staunton Lick'}]\n"
     ]
    }
   ],
   "source": [
    "ranking = find_closest_tracks_to_spotify_features(danceability)\n",
    "pprint(ranking)"
   ]
  },
  {
   "cell_type": "code",
   "execution_count": null,
   "id": "87fa5609-7734-4255-939d-7e0cd527c335",
   "metadata": {},
   "outputs": [],
   "source": []
  }
 ],
 "metadata": {
  "kernelspec": {
   "display_name": "Python 3.9",
   "language": "python",
   "name": "python3"
  },
  "language_info": {
   "codemirror_mode": {
    "name": "ipython",
    "version": 3
   },
   "file_extension": ".py",
   "mimetype": "text/x-python",
   "name": "python",
   "nbconvert_exporter": "python",
   "pygments_lexer": "ipython3",
   "version": "3.9.18"
  }
 },
 "nbformat": 4,
 "nbformat_minor": 5
}
