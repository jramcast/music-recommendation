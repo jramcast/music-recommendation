{
 "cells": [
  {
   "cell_type": "code",
   "execution_count": 1,
   "id": "b5187eb7-2fec-4357-ae6b-796e16ae57d6",
   "metadata": {},
   "outputs": [
    {
     "name": "stdout",
     "output_type": "stream",
     "text": [
      "\n",
      "\u001b[1m[\u001b[0m\u001b[34;49mnotice\u001b[0m\u001b[1;39;49m]\u001b[0m\u001b[39;49m A new release of pip available: \u001b[0m\u001b[31;49m22.2.2\u001b[0m\u001b[39;49m -> \u001b[0m\u001b[32;49m23.3.2\u001b[0m\n",
      "\u001b[1m[\u001b[0m\u001b[34;49mnotice\u001b[0m\u001b[1;39;49m]\u001b[0m\u001b[39;49m To update, run: \u001b[0m\u001b[32;49mpip install --upgrade pip\u001b[0m\n",
      "Note: you may need to restart the kernel to use updated packages.\n"
     ]
    }
   ],
   "source": [
    "%pip install -q xgboost==1.5.0 skl2onnx==1.16.0 onnxruntime==1.16.3 transformers==4.24.0 datasets==2.10.0"
   ]
  },
  {
   "cell_type": "code",
   "execution_count": 2,
   "id": "c8d41a9b-31c5-4b94-aaee-67b9d6e9ea56",
   "metadata": {},
   "outputs": [],
   "source": [
    "# Add parent directory to SYS to be able to import modules\n",
    "import sys\n",
    "sys.path.append(\"../\")"
   ]
  },
  {
   "cell_type": "code",
   "execution_count": 5,
   "id": "1c7de629-2840-4a17-ab82-22e06c62cef9",
   "metadata": {},
   "outputs": [],
   "source": [
    "import os\n",
    "import boto3\n",
    "import numpy as np\n",
    "from pathlib import Path\n",
    "from training.models import bayes\n",
    "from skl2onnx import to_onnx\n",
    "import dataloading\n",
    "import onnxruntime as rt"
   ]
  },
  {
   "cell_type": "code",
   "execution_count": 6,
   "id": "5b7f9ab5-ccaf-4066-a4ad-9d8ef1c27150",
   "metadata": {},
   "outputs": [],
   "source": [
    "MODEL_NAMES = [\n",
    "    \"danceability-bayes-1000_probs-by_track\",\n",
    "    \"acousticness-bayes-1000_probs-by_track\",\n",
    "    \"energy-bayes-1000_probs-by_track\",\n",
    "    \"instrumentalness-bayes-1000_probs-by_track\",\n",
    "    \"valence-bayes-1000_probs-by_track\",\n",
    "]\n",
    "DATA_DIR = Path(\"../../../data\")\n",
    "key_id = os.getenv(\"AWS_ACCESS_KEY_ID\")\n",
    "secret_key = os.getenv(\"AWS_SECRET_ACCESS_KEY\")\n",
    "endpoint = os.getenv(\"AWS_S3_ENDPOINT\")\n",
    "bucket_name = os.getenv(\"AWS_S3_BUCKET\")\n",
    "\n",
    "s3_client = boto3.client(\n",
    "    \"s3\",\n",
    "    aws_access_key_id=key_id,\n",
    "    aws_secret_access_key=secret_key,\n",
    "    endpoint_url=endpoint,\n",
    "    use_ssl=True\n",
    ")"
   ]
  },
  {
   "cell_type": "code",
   "execution_count": 7,
   "id": "e87d1916-543d-4965-81ee-783128dea3ea",
   "metadata": {},
   "outputs": [],
   "source": [
    "def export_and_upload(model_name):\n",
    "\n",
    "    MODEL_PATH = Path(f\"../_models/{model_name}.json\")\n",
    "    model = bayes.BayesianRegressor()\n",
    "    model.load(MODEL_PATH)\n",
    "\n",
    "\n",
    "    lastfm_tag_probs = dataloading.read_tag_probs(\n",
    "        DATA_DIR, num_tags=1000, dimension=\"track\", index_col=\"track\"\n",
    "    )\n",
    "    lastfm_tag_probs = lastfm_tag_probs.iloc[:1,:-12]\n",
    "    probs_array = lastfm_tag_probs.to_numpy().astype(np.float32)\n",
    "    \n",
    "    ONNX_MODEL_PATH = f\"../_models/{model_name}.onnx\"\n",
    "\n",
    "    onx = to_onnx(model._model, probs_array[0])\n",
    "\n",
    "    with open(ONNX_MODEL_PATH, \"wb\") as f:\n",
    "        f.write(onx.SerializeToString())\n",
    "\n",
    "    # TEST THE MODEL: Compute the prediction with onnxruntime.\n",
    "    sess = rt.InferenceSession(ONNX_MODEL_PATH, providers=[\"CPUExecutionProvider\"])\n",
    "    input_name = sess.get_inputs()[0].name\n",
    "    label_name = sess.get_outputs()[0].name\n",
    "\n",
    "    print(input_name)\n",
    "    print(label_name)\n",
    "\n",
    "    pred_onx = sess.run([label_name], {\n",
    "        input_name: probs_array[0].astype(np.float32)\n",
    "    })[0]\n",
    "    print(model_name, pred_onx)\n",
    "\n",
    "    s3_client.upload_file(ONNX_MODEL_PATH, bucket_name, Key=f\"{model_name}.onnx\")\n",
    "\n",
    "    print(f\"File {ONNX_MODEL_PATH} uploaded to S3!\")"
   ]
  },
  {
   "cell_type": "code",
   "execution_count": 8,
   "id": "e74158ac-66d4-4bf0-8a36-4f16c7f266c0",
   "metadata": {},
   "outputs": [
    {
     "name": "stderr",
     "output_type": "stream",
     "text": [
      "/opt/app-root/lib64/python3.9/site-packages/sklearn/base.py:318: UserWarning: Trying to unpickle estimator BayesianRidge from version 1.1.1 when using version 1.2.2. This might lead to breaking code or invalid results. Use at your own risk. For more info please refer to:\n",
      "https://scikit-learn.org/stable/model_persistence.html#security-maintainability-limitations\n",
      "  warnings.warn(\n"
     ]
    },
    {
     "name": "stdout",
     "output_type": "stream",
     "text": [
      "X\n",
      "variable\n",
      "danceability-bayes-1000_probs-by_track [[0.63926417]]\n",
      "File ../_models/danceability-bayes-1000_probs-by_track.onnx uploaded to S3!\n"
     ]
    },
    {
     "name": "stderr",
     "output_type": "stream",
     "text": [
      "/opt/app-root/lib64/python3.9/site-packages/sklearn/base.py:318: UserWarning: Trying to unpickle estimator BayesianRidge from version 1.1.1 when using version 1.2.2. This might lead to breaking code or invalid results. Use at your own risk. For more info please refer to:\n",
      "https://scikit-learn.org/stable/model_persistence.html#security-maintainability-limitations\n",
      "  warnings.warn(\n"
     ]
    },
    {
     "name": "stdout",
     "output_type": "stream",
     "text": [
      "X\n",
      "variable\n",
      "acousticness-bayes-1000_probs-by_track [[0.13018572]]\n",
      "File ../_models/acousticness-bayes-1000_probs-by_track.onnx uploaded to S3!\n"
     ]
    },
    {
     "name": "stderr",
     "output_type": "stream",
     "text": [
      "/opt/app-root/lib64/python3.9/site-packages/sklearn/base.py:318: UserWarning: Trying to unpickle estimator BayesianRidge from version 1.1.1 when using version 1.2.2. This might lead to breaking code or invalid results. Use at your own risk. For more info please refer to:\n",
      "https://scikit-learn.org/stable/model_persistence.html#security-maintainability-limitations\n",
      "  warnings.warn(\n"
     ]
    },
    {
     "name": "stdout",
     "output_type": "stream",
     "text": [
      "X\n",
      "variable\n",
      "energy-bayes-1000_probs-by_track [[0.6762643]]\n",
      "File ../_models/energy-bayes-1000_probs-by_track.onnx uploaded to S3!\n"
     ]
    },
    {
     "name": "stderr",
     "output_type": "stream",
     "text": [
      "/opt/app-root/lib64/python3.9/site-packages/sklearn/base.py:318: UserWarning: Trying to unpickle estimator BayesianRidge from version 1.1.1 when using version 1.2.2. This might lead to breaking code or invalid results. Use at your own risk. For more info please refer to:\n",
      "https://scikit-learn.org/stable/model_persistence.html#security-maintainability-limitations\n",
      "  warnings.warn(\n"
     ]
    },
    {
     "name": "stdout",
     "output_type": "stream",
     "text": [
      "X\n",
      "variable\n",
      "instrumentalness-bayes-1000_probs-by_track [[0.28317472]]\n",
      "File ../_models/instrumentalness-bayes-1000_probs-by_track.onnx uploaded to S3!\n"
     ]
    },
    {
     "name": "stderr",
     "output_type": "stream",
     "text": [
      "/opt/app-root/lib64/python3.9/site-packages/sklearn/base.py:318: UserWarning: Trying to unpickle estimator BayesianRidge from version 1.1.1 when using version 1.2.2. This might lead to breaking code or invalid results. Use at your own risk. For more info please refer to:\n",
      "https://scikit-learn.org/stable/model_persistence.html#security-maintainability-limitations\n",
      "  warnings.warn(\n"
     ]
    },
    {
     "name": "stdout",
     "output_type": "stream",
     "text": [
      "X\n",
      "variable\n",
      "valence-bayes-1000_probs-by_track [[0.46226376]]\n",
      "File ../_models/valence-bayes-1000_probs-by_track.onnx uploaded to S3!\n"
     ]
    }
   ],
   "source": [
    "for m in MODEL_NAMES:\n",
    "    export_and_upload(m)"
   ]
  },
  {
   "cell_type": "code",
   "execution_count": null,
   "id": "40894115-91f7-4e0c-80ce-47a10fad35f3",
   "metadata": {},
   "outputs": [],
   "source": []
  }
 ],
 "metadata": {
  "kernelspec": {
   "display_name": "Python 3.9",
   "language": "python",
   "name": "python3"
  },
  "language_info": {
   "codemirror_mode": {
    "name": "ipython",
    "version": 3
   },
   "file_extension": ".py",
   "mimetype": "text/x-python",
   "name": "python",
   "nbconvert_exporter": "python",
   "pygments_lexer": "ipython3",
   "version": "3.9.18"
  }
 },
 "nbformat": 4,
 "nbformat_minor": 5
}
