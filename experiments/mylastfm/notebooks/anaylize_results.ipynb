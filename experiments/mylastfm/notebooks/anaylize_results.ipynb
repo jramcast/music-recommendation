{
 "cells": [
  {
   "attachments": {},
   "cell_type": "markdown",
   "metadata": {},
   "source": [
    "# Results analysis\n",
    "\n",
    "This notebook analysis the results gathered from the experiments, which are stored in these files:\n",
    "\n",
    "* results_by_track.csv\n",
    "* \\_models/*-gpt2-_*/all_results.json"
   ]
  },
  {
   "cell_type": "code",
   "execution_count": 2,
   "metadata": {},
   "outputs": [],
   "source": [
    "# First I am going to manually define the results from the GPT-2 model\n",
    "\n"
   ]
  },
  {
   "cell_type": "code",
   "execution_count": 3,
   "metadata": {},
   "outputs": [],
   "source": [
    "import numpy as np\n",
    "import pandas as pd\n",
    "import seaborn as sns\n",
    "\n",
    "sns.set_theme()"
   ]
  },
  {
   "cell_type": "code",
   "execution_count": 4,
   "metadata": {},
   "outputs": [
    {
     "data": {
      "text/html": [
       "<div>\n",
       "<style scoped>\n",
       "    .dataframe tbody tr th:only-of-type {\n",
       "        vertical-align: middle;\n",
       "    }\n",
       "\n",
       "    .dataframe tbody tr th {\n",
       "        vertical-align: top;\n",
       "    }\n",
       "\n",
       "    .dataframe thead th {\n",
       "        text-align: right;\n",
       "    }\n",
       "</style>\n",
       "<table border=\"1\" class=\"dataframe\">\n",
       "  <thead>\n",
       "    <tr style=\"text-align: right;\">\n",
       "      <th></th>\n",
       "      <th>experiment</th>\n",
       "      <th>mse</th>\n",
       "      <th>rmse</th>\n",
       "      <th>mae</th>\n",
       "      <th>r2</th>\n",
       "    </tr>\n",
       "  </thead>\n",
       "  <tbody>\n",
       "    <tr>\n",
       "      <th>0</th>\n",
       "      <td>danceability-xdg-100-probs-by_track</td>\n",
       "      <td>0.023679</td>\n",
       "      <td>0.153880</td>\n",
       "      <td>0.116560</td>\n",
       "      <td>0.383259</td>\n",
       "    </tr>\n",
       "    <tr>\n",
       "      <th>1</th>\n",
       "      <td>danceability-bayes-100-probs-by_track</td>\n",
       "      <td>0.025348</td>\n",
       "      <td>0.159212</td>\n",
       "      <td>0.124374</td>\n",
       "      <td>0.339778</td>\n",
       "    </tr>\n",
       "    <tr>\n",
       "      <th>2</th>\n",
       "      <td>danceability-baseline-100-probs-by_track</td>\n",
       "      <td>0.076357</td>\n",
       "      <td>0.276327</td>\n",
       "      <td>0.219899</td>\n",
       "      <td>-0.988784</td>\n",
       "    </tr>\n",
       "    <tr>\n",
       "      <th>3</th>\n",
       "      <td>acousticness-xdg-100-probs-by_track</td>\n",
       "      <td>0.066028</td>\n",
       "      <td>0.256959</td>\n",
       "      <td>0.184070</td>\n",
       "      <td>0.313688</td>\n",
       "    </tr>\n",
       "    <tr>\n",
       "      <th>4</th>\n",
       "      <td>acousticness-bayes-100-probs-by_track</td>\n",
       "      <td>0.068349</td>\n",
       "      <td>0.261436</td>\n",
       "      <td>0.200401</td>\n",
       "      <td>0.289565</td>\n",
       "    </tr>\n",
       "  </tbody>\n",
       "</table>\n",
       "</div>"
      ],
      "text/plain": [
       "                                 experiment       mse      rmse       mae  \\\n",
       "0       danceability-xdg-100-probs-by_track  0.023679  0.153880  0.116560   \n",
       "1     danceability-bayes-100-probs-by_track  0.025348  0.159212  0.124374   \n",
       "2  danceability-baseline-100-probs-by_track  0.076357  0.276327  0.219899   \n",
       "3       acousticness-xdg-100-probs-by_track  0.066028  0.256959  0.184070   \n",
       "4     acousticness-bayes-100-probs-by_track  0.068349  0.261436  0.200401   \n",
       "\n",
       "         r2  \n",
       "0  0.383259  \n",
       "1  0.339778  \n",
       "2 -0.988784  \n",
       "3  0.313688  \n",
       "4  0.289565  "
      ]
     },
     "execution_count": 4,
     "metadata": {},
     "output_type": "execute_result"
    }
   ],
   "source": [
    "results = pd.read_csv(\"../results_by_track.csv\")\n",
    "results.head()"
   ]
  },
  {
   "cell_type": "code",
   "execution_count": 15,
   "metadata": {},
   "outputs": [
    {
     "data": {
      "text/html": [
       "<div>\n",
       "<style scoped>\n",
       "    .dataframe tbody tr th:only-of-type {\n",
       "        vertical-align: middle;\n",
       "    }\n",
       "\n",
       "    .dataframe tbody tr th {\n",
       "        vertical-align: top;\n",
       "    }\n",
       "\n",
       "    .dataframe thead th {\n",
       "        text-align: right;\n",
       "    }\n",
       "</style>\n",
       "<table border=\"1\" class=\"dataframe\">\n",
       "  <thead>\n",
       "    <tr style=\"text-align: right;\">\n",
       "      <th></th>\n",
       "      <th>experiment</th>\n",
       "      <th>mse</th>\n",
       "      <th>rmse</th>\n",
       "      <th>mae</th>\n",
       "      <th>r2</th>\n",
       "      <th>target</th>\n",
       "      <th>model</th>\n",
       "      <th>limit</th>\n",
       "      <th>input</th>\n",
       "      <th>dimension</th>\n",
       "    </tr>\n",
       "  </thead>\n",
       "  <tbody>\n",
       "    <tr>\n",
       "      <th>0</th>\n",
       "      <td>danceability-xdg-100-probs-by_track</td>\n",
       "      <td>0.023679</td>\n",
       "      <td>0.153880</td>\n",
       "      <td>0.116560</td>\n",
       "      <td>0.383259</td>\n",
       "      <td>danceability</td>\n",
       "      <td>xdg</td>\n",
       "      <td>100</td>\n",
       "      <td>probs</td>\n",
       "      <td>by_track</td>\n",
       "    </tr>\n",
       "    <tr>\n",
       "      <th>1</th>\n",
       "      <td>danceability-bayes-100-probs-by_track</td>\n",
       "      <td>0.025348</td>\n",
       "      <td>0.159212</td>\n",
       "      <td>0.124374</td>\n",
       "      <td>0.339778</td>\n",
       "      <td>danceability</td>\n",
       "      <td>bayes</td>\n",
       "      <td>100</td>\n",
       "      <td>probs</td>\n",
       "      <td>by_track</td>\n",
       "    </tr>\n",
       "    <tr>\n",
       "      <th>2</th>\n",
       "      <td>danceability-baseline-100-probs-by_track</td>\n",
       "      <td>0.076357</td>\n",
       "      <td>0.276327</td>\n",
       "      <td>0.219899</td>\n",
       "      <td>-0.988784</td>\n",
       "      <td>danceability</td>\n",
       "      <td>baseline</td>\n",
       "      <td>100</td>\n",
       "      <td>probs</td>\n",
       "      <td>by_track</td>\n",
       "    </tr>\n",
       "    <tr>\n",
       "      <th>3</th>\n",
       "      <td>acousticness-xdg-100-probs-by_track</td>\n",
       "      <td>0.066028</td>\n",
       "      <td>0.256959</td>\n",
       "      <td>0.184070</td>\n",
       "      <td>0.313688</td>\n",
       "      <td>acousticness</td>\n",
       "      <td>xdg</td>\n",
       "      <td>100</td>\n",
       "      <td>probs</td>\n",
       "      <td>by_track</td>\n",
       "    </tr>\n",
       "    <tr>\n",
       "      <th>4</th>\n",
       "      <td>acousticness-bayes-100-probs-by_track</td>\n",
       "      <td>0.068349</td>\n",
       "      <td>0.261436</td>\n",
       "      <td>0.200401</td>\n",
       "      <td>0.289565</td>\n",
       "      <td>acousticness</td>\n",
       "      <td>bayes</td>\n",
       "      <td>100</td>\n",
       "      <td>probs</td>\n",
       "      <td>by_track</td>\n",
       "    </tr>\n",
       "  </tbody>\n",
       "</table>\n",
       "</div>"
      ],
      "text/plain": [
       "                                 experiment       mse      rmse       mae  \\\n",
       "0       danceability-xdg-100-probs-by_track  0.023679  0.153880  0.116560   \n",
       "1     danceability-bayes-100-probs-by_track  0.025348  0.159212  0.124374   \n",
       "2  danceability-baseline-100-probs-by_track  0.076357  0.276327  0.219899   \n",
       "3       acousticness-xdg-100-probs-by_track  0.066028  0.256959  0.184070   \n",
       "4     acousticness-bayes-100-probs-by_track  0.068349  0.261436  0.200401   \n",
       "\n",
       "         r2        target     model limit  input dimension  \n",
       "0  0.383259  danceability       xdg   100  probs  by_track  \n",
       "1  0.339778  danceability     bayes   100  probs  by_track  \n",
       "2 -0.988784  danceability  baseline   100  probs  by_track  \n",
       "3  0.313688  acousticness       xdg   100  probs  by_track  \n",
       "4  0.289565  acousticness     bayes   100  probs  by_track  "
      ]
     },
     "execution_count": 15,
     "metadata": {},
     "output_type": "execute_result"
    }
   ],
   "source": [
    "# Create more columns based in the experiment type\n",
    "results[['target', 'model', 'limit', 'input', 'dimension']] = results['experiment'].str.split('-', expand=True)\n",
    "results.head()"
   ]
  },
  {
   "cell_type": "code",
   "execution_count": 6,
   "metadata": {},
   "outputs": [],
   "source": [
    "# REMOVE the baseline data and leave it in a different dataset\n",
    "\n",
    "# baseline = results.loc[results.model == \"baseline\"]\n",
    "# results = results.loc[results.model != \"baseline\"]"
   ]
  },
  {
   "cell_type": "code",
   "execution_count": 45,
   "metadata": {},
   "outputs": [
    {
     "data": {
      "text/plain": [
       "0      0.153880\n",
       "1      0.159212\n",
       "2      0.276327\n",
       "3      0.256959\n",
       "4      0.261436\n",
       "         ...   \n",
       "187    0.235000\n",
       "188    0.233000\n",
       "189    0.322000\n",
       "190    0.297000\n",
       "191    0.301000\n",
       "Name: rmse, Length: 192, dtype: float64"
      ]
     },
     "execution_count": 45,
     "metadata": {},
     "output_type": "execute_result"
    }
   ],
   "source": [
    "# Add the GPT-2 results\n",
    "\n",
    "\n",
    "# gpt_results_rmse = {\n",
    "#     \"danceability-gpt-duplicated\": {\n",
    "#         \"experiment\": \"danceability-gpt-duplicated\",\n",
    "#         \"mse\": None,\n",
    "#         \"rmse\": 0.157,\n",
    "#         \"mae\": None,\n",
    "#         \"r2\": None,\n",
    "#         \"target\": \"danceability\",\n",
    "#         \"model\": \"gpt-2\",\n",
    "#         \"limit\": 256\n",
    "#     }\n",
    "# }\n",
    "\n",
    "gpt_results_rmse = {\n",
    "    \"danceability\": {\n",
    "        \"duplicated\": 0.157,\n",
    "        \"ordered\": 0.149,\n",
    "        \"count\": 0.145\n",
    "    },\n",
    "    \"acousticness\": {\n",
    "        \"duplicated\": 0.244,\n",
    "        \"ordered\": 0.237,\n",
    "        \"count\": 0.237\n",
    "    },\n",
    "    \"energy\": {\n",
    "        \"duplicated\": 0.193,\n",
    "        \"ordered\": 0.188,\n",
    "        \"count\": 0.187\n",
    "    },\n",
    "    \"energy\": {\n",
    "        \"duplicated\": 0.245,\n",
    "        \"ordered\": 0.235,\n",
    "        \"count\": 0.233\n",
    "    },\n",
    "    \"instrumentalness\": {\n",
    "        \"duplicated\": 0.322,\n",
    "        \"ordered\": 0.297,\n",
    "        \"count\": 0.301\n",
    "    }\n",
    "}\n",
    "\n",
    "rows = []\n",
    "for target in gpt_results_rmse:\n",
    "    rows += [\n",
    "        [f\"{target}-gpt2-tokens_from_repeat_tags\", None, gpt_results_rmse[target][\"duplicated\"], None, None, target, \"gpt2\", 256, \"tokens_from_repeat_tags\", \"by_track\"],\n",
    "        [f\"{target}-gpt2-tokens_from_tag_order\", None, gpt_results_rmse[target][\"ordered\"], None, None, target, \"gpt2\", 256, \"tokens_from_tag_order\", \"by_track\"],\n",
    "        [f\"{target}-gpt2-tokens_from_tag_weight\", None, gpt_results_rmse[target][\"count\"], None, None, target, \"gpt2\", 256, \"tokens_from_tag_weight\", \"by_track\"],\n",
    "    ]\n",
    "\n",
    "results_with_gpt2 = pd.concat([\n",
    "    results,\n",
    "    pd.DataFrame(\n",
    "        data=np.array(rows),\n",
    "        columns=[\"experiment\", \"mse\", \"rmse\", \"mae\",\"r2\", \"target\", \"model\", \"limit\",\"input\", \"dimension\"]\n",
    "    )\n",
    "], ignore_index=True)\n",
    "results_with_gpt2.rmse = results_with_gpt2.rmse.astype(float)\n",
    "results_with_gpt2.rmse"
   ]
  },
  {
   "cell_type": "code",
   "execution_count": 46,
   "metadata": {},
   "outputs": [],
   "source": [
    "# Define a function to group by dimensions and calculate MEAN and STD\n",
    "\n",
    "def mean_std_by(data, dimension, value=\"rmse\", second_dimension=\"model\"):\n",
    "    grouped_by = data[[value] + [dimension, second_dimension]].groupby([dimension, second_dimension])\n",
    "    mean = grouped_by.mean().reset_index().pivot(index=second_dimension,columns=dimension, values=value)\n",
    "    std = grouped_by.std().reset_index().pivot(index=second_dimension,columns=dimension, values=value)\n",
    "    return mean, std"
   ]
  },
  {
   "cell_type": "code",
   "execution_count": 47,
   "metadata": {},
   "outputs": [
    {
     "data": {
      "text/plain": [
       "<AxesSubplot:xlabel='model'>"
      ]
     },
     "execution_count": 47,
     "metadata": {},
     "output_type": "execute_result"
    },
    {
     "data": {
      "image/png": "[encoded data removed]",
      "text/plain": [
       "<Figure size 360x576 with 1 Axes>"
      ]
     },
     "metadata": {},
     "output_type": "display_data"
    }
   ],
   "source": [
    "# Find the mean RMSE and std BY limit and model\n",
    "mean_by_limit, std_by_limit = mean_std_by(results, \"limit\")\n",
    "mean_by_limit.plot(figsize=(5,8), kind=\"bar\", yerr=std_by_limit)"
   ]
  },
  {
   "cell_type": "code",
   "execution_count": 48,
   "metadata": {},
   "outputs": [
    {
     "data": {
      "text/plain": [
       "<AxesSubplot:xlabel='model'>"
      ]
     },
     "execution_count": 48,
     "metadata": {},
     "output_type": "execute_result"
    },
    {
     "data": {
      "image/png": "[encoded data removed]",
      "text/plain": [
       "<Figure size 576x576 with 1 Axes>"
      ]
     },
     "metadata": {},
     "output_type": "display_data"
    }
   ],
   "source": [
    "# Find the mean RMSE and std BY target\n",
    "mean_by_target, std_by_target = mean_std_by(results_with_gpt2,\"target\")\n",
    "mean_by_target.plot(figsize=(8,8), kind=\"bar\", yerr=std_by_target)"
   ]
  },
  {
   "cell_type": "code",
   "execution_count": 49,
   "metadata": {},
   "outputs": [
    {
     "name": "stdout",
     "output_type": "stream",
     "text": [
      "input        probs  tokens_from_repeat_tags  tokens_from_tag_order  \\\n",
      "model                                                                \n",
      "baseline  0.395485                 0.394926               0.396469   \n",
      "bayes     0.228435                 0.347613               0.309317   \n",
      "gpt2           NaN                 0.242000               0.229500   \n",
      "xdg       0.223805                 0.252596               0.264563   \n",
      "\n",
      "input     tokens_from_tag_weight  \n",
      "model                             \n",
      "baseline                0.397659  \n",
      "bayes                   0.297403  \n",
      "gpt2                    0.229000  \n",
      "xdg                     0.255643  \n"
     ]
    },
    {
     "data": {
      "text/plain": [
       "<AxesSubplot:xlabel='model'>"
      ]
     },
     "execution_count": 49,
     "metadata": {},
     "output_type": "execute_result"
    },
    {
     "data": {
      "image/png": "[encoded data removed]",
      "text/plain": [
       "<Figure size 576x576 with 1 Axes>"
      ]
     },
     "metadata": {},
     "output_type": "display_data"
    }
   ],
   "source": [
    "# Find the mean RMSE and std BY input\n",
    "mean_by_input, std_by_input = mean_std_by(results_with_gpt2, \"input\")\n",
    "print(mean_by_input)\n",
    "mean_by_input.plot(figsize=(8,8), kind=\"bar\", yerr=std_by_input)"
   ]
  },
  {
   "cell_type": "code",
   "execution_count": 54,
   "metadata": {},
   "outputs": [
    {
     "data": {
      "text/plain": [
       "<AxesSubplot:xlabel='target'>"
      ]
     },
     "execution_count": 54,
     "metadata": {},
     "output_type": "execute_result"
    },
    {
     "data": {
      "image/png": "[encoded data removed]",
      "text/plain": [
       "<Figure size 576x576 with 1 Axes>"
      ]
     },
     "metadata": {},
     "output_type": "display_data"
    }
   ],
   "source": [
    "# Find the mean RMSE and std BY input type and target\n",
    "mean, std = mean_std_by(results_with_gpt2, \"input\", second_dimension=\"target\")\n",
    "mean.plot(figsize=(8,8), kind=\"bar\", yerr=std)"
   ]
  }
 ],
 "metadata": {
  "kernelspec": {
   "display_name": "Python 3 (ipykernel)",
   "language": "python",
   "name": "python3"
  },
  "language_info": {
   "codemirror_mode": {
    "name": "ipython",
    "version": 3
   },
   "file_extension": ".py",
   "mimetype": "text/x-python",
   "name": "python",
   "nbconvert_exporter": "python",
   "pygments_lexer": "ipython3",
   "version": "3.9.6"
  }
 },
 "nbformat": 4,
 "nbformat_minor": 4
}
