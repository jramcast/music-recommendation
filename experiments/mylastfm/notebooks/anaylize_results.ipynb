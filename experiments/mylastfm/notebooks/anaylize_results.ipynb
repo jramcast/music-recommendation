{
 "cells": [
  {
   "attachments": {},
   "cell_type": "markdown",
   "metadata": {},
   "source": [
    "# Results analysis\n",
    "\n",
    "This notebook analysis the results gathered from the experiments, which are stored in these files:\n",
    "\n",
    "* results_by_track.csv\n",
    "* models/*-gpt2-_*/all_results.json"
   ]
  },
  {
   "cell_type": "code",
   "execution_count": 14,
   "metadata": {},
   "outputs": [],
   "source": [
    "import numpy as np\n",
    "import pandas as pd"
   ]
  },
  {
   "cell_type": "code",
   "execution_count": 40,
   "metadata": {},
   "outputs": [
    {
     "data": {
      "text/html": [
       "<div>\n",
       "<style scoped>\n",
       "    .dataframe tbody tr th:only-of-type {\n",
       "        vertical-align: middle;\n",
       "    }\n",
       "\n",
       "    .dataframe tbody tr th {\n",
       "        vertical-align: top;\n",
       "    }\n",
       "\n",
       "    .dataframe thead th {\n",
       "        text-align: right;\n",
       "    }\n",
       "</style>\n",
       "<table border=\"1\" class=\"dataframe\">\n",
       "  <thead>\n",
       "    <tr style=\"text-align: right;\">\n",
       "      <th></th>\n",
       "      <th>experiment</th>\n",
       "      <th>mse</th>\n",
       "      <th>rmse</th>\n",
       "      <th>mae</th>\n",
       "      <th>r2</th>\n",
       "    </tr>\n",
       "  </thead>\n",
       "  <tbody>\n",
       "    <tr>\n",
       "      <th>0</th>\n",
       "      <td>danceability-xdg-100-probs-by_track</td>\n",
       "      <td>0.023679</td>\n",
       "      <td>0.153880</td>\n",
       "      <td>0.116560</td>\n",
       "      <td>0.383259</td>\n",
       "    </tr>\n",
       "    <tr>\n",
       "      <th>1</th>\n",
       "      <td>danceability-bayes-100-probs-by_track</td>\n",
       "      <td>0.025348</td>\n",
       "      <td>0.159212</td>\n",
       "      <td>0.124374</td>\n",
       "      <td>0.339778</td>\n",
       "    </tr>\n",
       "    <tr>\n",
       "      <th>2</th>\n",
       "      <td>danceability-baseline-100-probs-by_track</td>\n",
       "      <td>0.076357</td>\n",
       "      <td>0.276327</td>\n",
       "      <td>0.219899</td>\n",
       "      <td>-0.988784</td>\n",
       "    </tr>\n",
       "    <tr>\n",
       "      <th>3</th>\n",
       "      <td>acousticness-xdg-100-probs-by_track</td>\n",
       "      <td>0.066028</td>\n",
       "      <td>0.256959</td>\n",
       "      <td>0.184070</td>\n",
       "      <td>0.313688</td>\n",
       "    </tr>\n",
       "    <tr>\n",
       "      <th>4</th>\n",
       "      <td>acousticness-bayes-100-probs-by_track</td>\n",
       "      <td>0.068349</td>\n",
       "      <td>0.261436</td>\n",
       "      <td>0.200401</td>\n",
       "      <td>0.289565</td>\n",
       "    </tr>\n",
       "  </tbody>\n",
       "</table>\n",
       "</div>"
      ],
      "text/plain": [
       "                                 experiment       mse      rmse       mae  \\\n",
       "0       danceability-xdg-100-probs-by_track  0.023679  0.153880  0.116560   \n",
       "1     danceability-bayes-100-probs-by_track  0.025348  0.159212  0.124374   \n",
       "2  danceability-baseline-100-probs-by_track  0.076357  0.276327  0.219899   \n",
       "3       acousticness-xdg-100-probs-by_track  0.066028  0.256959  0.184070   \n",
       "4     acousticness-bayes-100-probs-by_track  0.068349  0.261436  0.200401   \n",
       "\n",
       "         r2  \n",
       "0  0.383259  \n",
       "1  0.339778  \n",
       "2 -0.988784  \n",
       "3  0.313688  \n",
       "4  0.289565  "
      ]
     },
     "execution_count": 40,
     "metadata": {},
     "output_type": "execute_result"
    }
   ],
   "source": [
    "results = pd.read_csv(\"../results_by_track.csv\")\n",
    "results.head()"
   ]
  },
  {
   "cell_type": "code",
   "execution_count": 84,
   "metadata": {},
   "outputs": [
    {
     "data": {
      "text/html": [
       "<div>\n",
       "<style scoped>\n",
       "    .dataframe tbody tr th:only-of-type {\n",
       "        vertical-align: middle;\n",
       "    }\n",
       "\n",
       "    .dataframe tbody tr th {\n",
       "        vertical-align: top;\n",
       "    }\n",
       "\n",
       "    .dataframe thead th {\n",
       "        text-align: right;\n",
       "    }\n",
       "</style>\n",
       "<table border=\"1\" class=\"dataframe\">\n",
       "  <thead>\n",
       "    <tr style=\"text-align: right;\">\n",
       "      <th></th>\n",
       "      <th>experiment</th>\n",
       "      <th>mse</th>\n",
       "      <th>rmse</th>\n",
       "      <th>mae</th>\n",
       "      <th>r2</th>\n",
       "      <th>target</th>\n",
       "      <th>model</th>\n",
       "      <th>limit</th>\n",
       "      <th>input</th>\n",
       "      <th>dimension</th>\n",
       "    </tr>\n",
       "  </thead>\n",
       "  <tbody>\n",
       "    <tr>\n",
       "      <th>0</th>\n",
       "      <td>danceability-xdg-100-probs-by_track</td>\n",
       "      <td>0.023679</td>\n",
       "      <td>0.153880</td>\n",
       "      <td>0.116560</td>\n",
       "      <td>0.383259</td>\n",
       "      <td>danceability</td>\n",
       "      <td>xdg</td>\n",
       "      <td>100</td>\n",
       "      <td>probs</td>\n",
       "      <td>by_track</td>\n",
       "    </tr>\n",
       "    <tr>\n",
       "      <th>1</th>\n",
       "      <td>danceability-bayes-100-probs-by_track</td>\n",
       "      <td>0.025348</td>\n",
       "      <td>0.159212</td>\n",
       "      <td>0.124374</td>\n",
       "      <td>0.339778</td>\n",
       "      <td>danceability</td>\n",
       "      <td>bayes</td>\n",
       "      <td>100</td>\n",
       "      <td>probs</td>\n",
       "      <td>by_track</td>\n",
       "    </tr>\n",
       "    <tr>\n",
       "      <th>3</th>\n",
       "      <td>acousticness-xdg-100-probs-by_track</td>\n",
       "      <td>0.066028</td>\n",
       "      <td>0.256959</td>\n",
       "      <td>0.184070</td>\n",
       "      <td>0.313688</td>\n",
       "      <td>acousticness</td>\n",
       "      <td>xdg</td>\n",
       "      <td>100</td>\n",
       "      <td>probs</td>\n",
       "      <td>by_track</td>\n",
       "    </tr>\n",
       "    <tr>\n",
       "      <th>4</th>\n",
       "      <td>acousticness-bayes-100-probs-by_track</td>\n",
       "      <td>0.068349</td>\n",
       "      <td>0.261436</td>\n",
       "      <td>0.200401</td>\n",
       "      <td>0.289565</td>\n",
       "      <td>acousticness</td>\n",
       "      <td>bayes</td>\n",
       "      <td>100</td>\n",
       "      <td>probs</td>\n",
       "      <td>by_track</td>\n",
       "    </tr>\n",
       "    <tr>\n",
       "      <th>6</th>\n",
       "      <td>energy-xdg-100-probs-by_track</td>\n",
       "      <td>0.035426</td>\n",
       "      <td>0.188217</td>\n",
       "      <td>0.147648</td>\n",
       "      <td>0.363555</td>\n",
       "      <td>energy</td>\n",
       "      <td>xdg</td>\n",
       "      <td>100</td>\n",
       "      <td>probs</td>\n",
       "      <td>by_track</td>\n",
       "    </tr>\n",
       "  </tbody>\n",
       "</table>\n",
       "</div>"
      ],
      "text/plain": [
       "                              experiment       mse      rmse       mae  \\\n",
       "0    danceability-xdg-100-probs-by_track  0.023679  0.153880  0.116560   \n",
       "1  danceability-bayes-100-probs-by_track  0.025348  0.159212  0.124374   \n",
       "3    acousticness-xdg-100-probs-by_track  0.066028  0.256959  0.184070   \n",
       "4  acousticness-bayes-100-probs-by_track  0.068349  0.261436  0.200401   \n",
       "6          energy-xdg-100-probs-by_track  0.035426  0.188217  0.147648   \n",
       "\n",
       "         r2        target  model limit  input dimension  \n",
       "0  0.383259  danceability    xdg   100  probs  by_track  \n",
       "1  0.339778  danceability  bayes   100  probs  by_track  \n",
       "3  0.313688  acousticness    xdg   100  probs  by_track  \n",
       "4  0.289565  acousticness  bayes   100  probs  by_track  \n",
       "6  0.363555        energy    xdg   100  probs  by_track  "
      ]
     },
     "execution_count": 84,
     "metadata": {},
     "output_type": "execute_result"
    }
   ],
   "source": [
    "# Create more columns based in the experiment type\n",
    "results[['target', 'model', 'limit', 'input', 'dimension']] = results['experiment'].str.split('-', expand=True)\n",
    "results.head()"
   ]
  },
  {
   "cell_type": "code",
   "execution_count": 85,
   "metadata": {},
   "outputs": [],
   "source": [
    "# remove the baseline data and leave it in a different dataset\n",
    "\n",
    "baseline = results.loc[results.model == \"baseline\"]\n",
    "results = results.loc[results.model != \"baseline\"]"
   ]
  },
  {
   "cell_type": "code",
   "execution_count": 103,
   "metadata": {},
   "outputs": [],
   "source": [
    "# Define a function to group by dimensions and calculate MEAN and STD\n",
    "\n",
    "def mean_std_by(dimension, columns=[\"rmse\"]):\n",
    "    grouped_by = results[columns + [dimension]].groupby(dimension)\n",
    "    mean = grouped_by.mean()\n",
    "    std = grouped_by.std()\n",
    "    return mean, std"
   ]
  },
  {
   "cell_type": "code",
   "execution_count": 104,
   "metadata": {},
   "outputs": [
    {
     "data": {
      "text/plain": [
       "<AxesSubplot:xlabel='limit'>"
      ]
     },
     "execution_count": 104,
     "metadata": {},
     "output_type": "execute_result"
    },
    {
     "data": {
      "image/png": "[encoded data removed]",
      "text/plain": [
       "<Figure size 360x576 with 1 Axes>"
      ]
     },
     "metadata": {
      "needs_background": "light"
     },
     "output_type": "display_data"
    }
   ],
   "source": [
    "# Find the mean RMSE and std BY limit\n",
    "mean_by_limit, std_by_limit = mean_std_by(\"limit\")\n",
    "mean_by_limit.plot(figsize=(5,8), kind=\"bar\", yerr=std_by_limit)"
   ]
  },
  {
   "cell_type": "code",
   "execution_count": 105,
   "metadata": {},
   "outputs": [
    {
     "data": {
      "text/plain": [
       "<AxesSubplot:xlabel='target'>"
      ]
     },
     "execution_count": 105,
     "metadata": {},
     "output_type": "execute_result"
    },
    {
     "data": {
      "image/png": "[encoded data removed]",
      "text/plain": [
       "<Figure size 360x576 with 1 Axes>"
      ]
     },
     "metadata": {
      "needs_background": "light"
     },
     "output_type": "display_data"
    }
   ],
   "source": [
    "# Find the mean RMSE and std BY target\n",
    "mean_by_target, std_by_target = mean_std_by(\"target\", columns=[\"rmse\", \"model\"])\n",
    "mean_by_target.plot(figsize=(5,8), kind=\"bar\", yerr=std_by_target)"
   ]
  },
  {
   "cell_type": "code",
   "execution_count": 120,
   "metadata": {},
   "outputs": [
    {
     "data": {
      "text/plain": [
       "<AxesSubplot:xlabel='model'>"
      ]
     },
     "execution_count": 120,
     "metadata": {},
     "output_type": "execute_result"
    },
    {
     "data": {
      "image/png": "[encoded data removed]",
      "text/plain": [
       "<Figure size 432x288 with 1 Axes>"
      ]
     },
     "metadata": {
      "needs_background": "light"
     },
     "output_type": "display_data"
    }
   ],
   "source": [
    "results[[\"rmse\", \"model\", \"limit\"]].groupby([\"limit\", \"model\"]).mean().reset_index().pivot(index=\"model\",columns=\"limit\", values=\"rmse\").plot(kind=\"bar\")"
   ]
  },
  {
   "cell_type": "code",
   "execution_count": null,
   "metadata": {},
   "outputs": [],
   "source": []
  }
 ],
 "metadata": {
  "kernelspec": {
   "display_name": "mer",
   "language": "python",
   "name": "python3"
  },
  "language_info": {
   "codemirror_mode": {
    "name": "ipython",
    "version": 3
   },
   "file_extension": ".py",
   "mimetype": "text/x-python",
   "name": "python",
   "nbconvert_exporter": "python",
   "pygments_lexer": "ipython3",
   "version": "3.9.6"
  },
  "orig_nbformat": 4
 },
 "nbformat": 4,
 "nbformat_minor": 2
}
